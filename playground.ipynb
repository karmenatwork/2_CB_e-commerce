{
 "cells": [
  {
   "cell_type": "code",
   "execution_count": 1,
   "id": "9ab953cd-131b-470a-a029-d52a10e64d38",
   "metadata": {},
   "outputs": [
    {
     "data": {
      "text/plain": [
       "{}"
      ]
     },
     "execution_count": 1,
     "metadata": {},
     "output_type": "execute_result"
    }
   ],
   "source": [
    "# Testing each functions\n",
    "import utils\n",
    "\n",
    "# Create DB & demo data.\n",
    "from models.database import DummyEcommerceDB\n",
    "\n",
    "# Instance of dummyDB \n",
    "db = DummyEcommerceDB()\n",
    "db.users\n",
    "db.catalogs\n",
    "db.categories\n",
    "db.products\n"
   ]
  },
  {
   "cell_type": "markdown",
   "id": "12a91def",
   "metadata": {},
   "source": [
    "### Testing load files dummy data"
   ]
  },
  {
   "cell_type": "code",
   "execution_count": 2,
   "id": "1620e10b",
   "metadata": {},
   "outputs": [
    {
     "name": "stdout",
     "output_type": "stream",
     "text": [
      "Loading demo users from JSON file ... \n",
      "\n",
      "Total demo users: 3 \n",
      "\n"
     ]
    },
    {
     "data": {
      "text/plain": [
       "{'carmen@test.com': {'id': 1,\n",
       "  'name': 'Carmen',\n",
       "  'email': 'carmen@test.com',\n",
       "  'password': 'abcde1',\n",
       "  'admin': 1},\n",
       " 'maria@test.com': {'id': 2,\n",
       "  'name': 'Maria',\n",
       "  'email': 'maria@test.com',\n",
       "  'password': 'abcde2',\n",
       "  'admin': 0},\n",
       " 'jonh@test.com': {'id': 3,\n",
       "  'name': 'Jonh',\n",
       "  'email': 'jonh@test.com',\n",
       "  'password': 'abcde2',\n",
       "  'admin': 1}}"
      ]
     },
     "execution_count": 2,
     "metadata": {},
     "output_type": "execute_result"
    }
   ],
   "source": [
    "# Load users\n",
    "utils.load_users(db.users)\n",
    "db.users"
   ]
  },
  {
   "cell_type": "code",
   "execution_count": 3,
   "id": "88b3400e",
   "metadata": {},
   "outputs": [
    {
     "name": "stdout",
     "output_type": "stream",
     "text": [
      "Loading DEMO categories from JSON file ... \n",
      "\n"
     ]
    },
    {
     "data": {
      "text/plain": [
       "{'footwear': {'name': 'Footwear', 'description': 'This is footwear', 'id': 1},\n",
       " 'clothing': {'name': 'Clothing', 'description': 'This is clothing', 'id': 2},\n",
       " 'electronic': {'name': 'Electronic',\n",
       "  'description': 'This is electronic',\n",
       "  'id': 3},\n",
       " 'furniture': {'name': 'Furniture',\n",
       "  'description': 'This is furniture',\n",
       "  'id': 4},\n",
       " 'grocery': {'name': 'Grocery', 'description': 'This is grocery', 'id': 5},\n",
       " 'stationary': {'name': 'Stationary',\n",
       "  'description': 'This is stationary',\n",
       "  'id': 6},\n",
       " 'toys': {'name': 'Toys', 'description': 'This is toys', 'id': 7},\n",
       " 'sports': {'name': 'Sports', 'description': 'This is sports', 'id': 8},\n",
       " 'books': {'name': 'Books',\n",
       "  'description': 'Books, all type of books',\n",
       "  'id': 9},\n",
       " 'others': {'name': 'Others', 'description': 'This is others', 'id': 10}}"
      ]
     },
     "execution_count": 3,
     "metadata": {},
     "output_type": "execute_result"
    }
   ],
   "source": [
    "utils.load_categories(db.categories)\n",
    "db.categories"
   ]
  },
  {
   "cell_type": "code",
   "execution_count": 4,
   "id": "1ffa6521",
   "metadata": {},
   "outputs": [
    {
     "name": "stdout",
     "output_type": "stream",
     "text": [
      "{}\n",
      "Loading DEMO catalog from JSON file :p ... \n",
      "\n"
     ]
    },
    {
     "data": {
      "text/plain": [
       "{'books': {'name': 'Books',\n",
       "  'description': 'Only technical books',\n",
       "  'products': [{'name': 'Python Crash Course: A Hands-On, Project-Based Introduction to Programming',\n",
       "    'author': 'Eric Matthes',\n",
       "    'description': 'Python Crash Course is a fast-paced, and excellent book to start learning Python programming',\n",
       "    'price': 44.99,\n",
       "    'id': 91,\n",
       "    'category_id': 9,\n",
       "    'category_name': 'Books'},\n",
       "   {'name': 'Fluent Python: Clear, Concise, and Effective Programming',\n",
       "    'author': 'Luciano Ramalho',\n",
       "    'description': 'Fluent Python is a reference book written for experienced Python 2 programmers who want to learn Python 3. ',\n",
       "    'price': 19.99,\n",
       "    'id': 92,\n",
       "    'category_id': 9,\n",
       "    'category_name': 'Books'},\n",
       "   {'name': 'Introduction to Machine Learning With Python',\n",
       "    'author': 'Andreas C. Müller',\n",
       "    'description': 'Introduction to Machine Learning With Python will teach you how to build your machine-learning solutions using Python and the Scikit-learn library.',\n",
       "    'price': 56.99,\n",
       "    'id': 93,\n",
       "    'category_id': 9,\n",
       "    'category_name': 'Books'}],\n",
       "  'id': 9},\n",
       " 'clothing': {'name': 'Clothing',\n",
       "  'description': 'Including Jewelry, Jackets, and shoes',\n",
       "  'products': [{'name': 'AUTOMET Womens Faux Leather Jackets',\n",
       "    'author': 'AUTOMET',\n",
       "    'description': 'Fabric: 90%Polyester,10%Spandex. Suede Jackets Features A Plush And Soft Faux Suede Fabric.',\n",
       "    'price': 29.99,\n",
       "    'id': 21,\n",
       "    'category_id': 2,\n",
       "    'category_name': 'Clothing'}],\n",
       "  'id': 2}}"
      ]
     },
     "execution_count": 4,
     "metadata": {},
     "output_type": "execute_result"
    }
   ],
   "source": [
    "print(db.catalogs)\n",
    "utils.load_catalog(db)\n",
    "db.catalogs"
   ]
  },
  {
   "cell_type": "code",
   "execution_count": 5,
   "id": "51ab105d",
   "metadata": {},
   "outputs": [
    {
     "name": "stdout",
     "output_type": "stream",
     "text": [
      "Categories {'footwear': {'name': 'Footwear', 'description': 'This is footwear', 'id': 1}, 'clothing': {'name': 'Clothing', 'description': 'Including Jewelry, Jackets, and shoes', 'id': 2}, 'electronic': {'name': 'Electronic', 'description': 'This is electronic', 'id': 3}, 'furniture': {'name': 'Furniture', 'description': 'This is furniture', 'id': 4}, 'grocery': {'name': 'Grocery', 'description': 'This is grocery', 'id': 5}, 'stationary': {'name': 'Stationary', 'description': 'This is stationary', 'id': 6}, 'toys': {'name': 'Toys', 'description': 'This is toys', 'id': 7}, 'sports': {'name': 'Sports', 'description': 'This is sports', 'id': 8}, 'books': {'name': 'Books', 'description': 'Only technical books', 'id': 9}, 'others': {'name': 'Others', 'description': 'This is others', 'id': 10}}\n",
      "Products {91: {'name': 'Python Crash Course: A Hands-On, Project-Based Introduction to Programming', 'author': 'Eric Matthes', 'description': 'Python Crash Course is a fast-paced, and excellent book to start learning Python programming', 'price': 44.99, 'id': 91, 'category_id': 9, 'category_name': 'Books'}, 92: {'name': 'Fluent Python: Clear, Concise, and Effective Programming', 'author': 'Luciano Ramalho', 'description': 'Fluent Python is a reference book written for experienced Python 2 programmers who want to learn Python 3. ', 'price': 19.99, 'id': 92, 'category_id': 9, 'category_name': 'Books'}, 93: {'name': 'Introduction to Machine Learning With Python', 'author': 'Andreas C. Müller', 'description': 'Introduction to Machine Learning With Python will teach you how to build your machine-learning solutions using Python and the Scikit-learn library.', 'price': 56.99, 'id': 93, 'category_id': 9, 'category_name': 'Books'}, 21: {'name': 'AUTOMET Womens Faux Leather Jackets', 'author': 'AUTOMET', 'description': 'Fabric: 90%Polyester,10%Spandex. Suede Jackets Features A Plush And Soft Faux Suede Fabric.', 'price': 29.99, 'id': 21, 'category_id': 2, 'category_name': 'Clothing'}}\n"
     ]
    }
   ],
   "source": [
    "print(f'Categories {db.categories}')\n",
    "print(f'Products {db.products}')"
   ]
  },
  {
   "cell_type": "code",
   "execution_count": 6,
   "id": "60def13e",
   "metadata": {},
   "outputs": [
    {
     "name": "stdout",
     "output_type": "stream",
     "text": [
      "Loading demo users from JSON file ... \n",
      "\n",
      "Total demo users: 3 \n",
      "\n",
      "{'carmen@test.com': {'id': 1, 'name': 'Carmen', 'email': 'carmen@test.com', 'password': 'abcde1', 'admin': 1}, 'maria@test.com': {'id': 2, 'name': 'Maria', 'email': 'maria@test.com', 'password': 'abcde2', 'admin': 0}, 'jonh@test.com': {'id': 3, 'name': 'Jonh', 'email': 'jonh@test.com', 'password': 'abcde2', 'admin': 1}}\n",
      "Register users {'carmen@test.com': {'id': 1, 'name': 'Carmen', 'email': 'carmen@test.com', 'password': 'abcde1', 'admin': 1}, 'maria@test.com': {'id': 2, 'name': 'Maria', 'email': 'maria@test.com', 'password': 'abcde2', 'admin': 0}, 'jonh@test.com': {'id': 3, 'name': 'Jonh', 'email': 'jonh@test.com', 'password': 'abcde2', 'admin': 1}}\n"
     ]
    },
    {
     "data": {
      "text/plain": [
       "'test@example.com'"
      ]
     },
     "execution_count": 6,
     "metadata": {},
     "output_type": "execute_result"
    }
   ],
   "source": [
    "# Register user\n",
    "# Load users\n",
    "db.users = {}\n",
    "utils.load_users(db.users)\n",
    "print(db.users)\n",
    "utils.register( \"Marco\", \"test@example.com\", \"testing\", db.users)\n",
    "list(db.users)[-1]"
   ]
  },
  {
   "cell_type": "code",
   "execution_count": 7,
   "id": "05bf80a5",
   "metadata": {},
   "outputs": [
    {
     "data": {
      "text/plain": [
       "(True,\n",
       " 'Login sucessful.',\n",
       " {'name': 'Marco', 'password': 'testing', 'admin': 0})"
      ]
     },
     "execution_count": 7,
     "metadata": {},
     "output_type": "execute_result"
    }
   ],
   "source": [
    "utils.login(\"test@example.com\", \"testing\", db.users)"
   ]
  },
  {
   "cell_type": "code",
   "execution_count": 8,
   "id": "e5b50a46",
   "metadata": {},
   "outputs": [
    {
     "name": "stdout",
     "output_type": "stream",
     "text": [
      "Before Categories: \n",
      " {'footwear': {'name': 'Footwear', 'description': 'This is footwear', 'id': 1}, 'clothing': {'name': 'Clothing', 'description': 'Including Jewelry, Jackets, and shoes', 'id': 2}, 'electronic': {'name': 'Electronic', 'description': 'This is electronic', 'id': 3}, 'furniture': {'name': 'Furniture', 'description': 'This is furniture', 'id': 4}, 'grocery': {'name': 'Grocery', 'description': 'This is grocery', 'id': 5}, 'stationary': {'name': 'Stationary', 'description': 'This is stationary', 'id': 6}, 'toys': {'name': 'Toys', 'description': 'This is toys', 'id': 7}, 'sports': {'name': 'Sports', 'description': 'This is sports', 'id': 8}, 'books': {'name': 'Books', 'description': 'Only technical books', 'id': 9}, 'others': {'name': 'Others', 'description': 'This is others', 'id': 10}}\n",
      "0\n",
      " Testing admin authorization - add_category, is_admin = False Admin permissions required\n",
      "\n",
      "{'carmen@test.com': {'id': 1, 'name': 'Carmen', 'email': 'carmen@test.com', 'password': 'abcde1', 'admin': 1}, 'maria@test.com': {'id': 2, 'name': 'Maria', 'email': 'maria@test.com', 'password': 'abcde2', 'admin': 0}, 'jonh@test.com': {'id': 3, 'name': 'Jonh', 'email': 'jonh@test.com', 'password': 'abcde2', 'admin': 1}, 'test@example.com': {'name': 'Marco', 'password': 'testing', 'admin': 0}}\n",
      "1\n",
      " Testing admin authorization, is_admin = True (True, 'Category added successfully.', {'footwear': {'name': 'Footwear', 'description': 'This is footwear', 'id': 1}, 'clothing': {'name': 'Clothing', 'description': 'Including Jewelry, Jackets, and shoes', 'id': 2}, 'electronic': {'name': 'Electronic', 'description': 'This is electronic', 'id': 3}, 'furniture': {'name': 'Furniture', 'description': 'This is furniture', 'id': 4}, 'grocery': {'name': 'Grocery', 'description': 'This is grocery', 'id': 5}, 'stationary': {'name': 'Stationary', 'description': 'This is stationary', 'id': 6}, 'toys': {'name': 'Toys', 'description': 'This is toys', 'id': 7}, 'sports': {'name': 'Sports', 'description': 'This is sports', 'id': 8}, 'books': {'name': 'Books', 'description': 'Only technical books', 'id': 9}, 'others': {'name': 'Others', 'description': 'This is others', 'id': 10}, 'juguetes_and_amor': {'id': 11, 'name': 'Juguetes and Amor', 'description': 'bla bla bla'}})\n",
      "\n",
      "After Categories: \n",
      " {'footwear': {'name': 'Footwear', 'description': 'This is footwear', 'id': 1}, 'clothing': {'name': 'Clothing', 'description': 'Including Jewelry, Jackets, and shoes', 'id': 2}, 'electronic': {'name': 'Electronic', 'description': 'This is electronic', 'id': 3}, 'furniture': {'name': 'Furniture', 'description': 'This is furniture', 'id': 4}, 'grocery': {'name': 'Grocery', 'description': 'This is grocery', 'id': 5}, 'stationary': {'name': 'Stationary', 'description': 'This is stationary', 'id': 6}, 'toys': {'name': 'Toys', 'description': 'This is toys', 'id': 7}, 'sports': {'name': 'Sports', 'description': 'This is sports', 'id': 8}, 'books': {'name': 'Books', 'description': 'Only technical books', 'id': 9}, 'others': {'name': 'Others', 'description': 'This is others', 'id': 10}, 'juguetes_and_amor': {'id': 11, 'name': 'Juguetes and Amor', 'description': 'bla bla bla'}}\n"
     ]
    }
   ],
   "source": [
    "print(f'Before Categories: \\n {db.categories}')\n",
    "print(f\" Testing admin authorization - add_category, is_admin = False {utils.add_category('test@example.com', db, 'Juguetes and Amor', 'bla bla bla')}\\n\")\n",
    "print(db.users)\n",
    "print(f\" Testing admin authorization, is_admin = True {utils.add_category('carmen@test.com', db,'Juguetes and Amor', 'bla bla bla')}\\n\")\n",
    "\n",
    "print(f'After Categories: \\n {db.categories}')"
   ]
  },
  {
   "cell_type": "code",
   "execution_count": 9,
   "id": "1f6284c6",
   "metadata": {},
   "outputs": [
    {
     "name": "stdout",
     "output_type": "stream",
     "text": [
      "Admin adds a new category\n",
      "1\n",
      "(True, 'Category added successfully.', {'footwear': {'name': 'Footwear', 'description': 'This is footwear', 'id': 1}, 'clothing': {'name': 'Clothing', 'description': 'Including Jewelry, Jackets, and shoes', 'id': 2}, 'electronic': {'name': 'Electronic', 'description': 'This is electronic', 'id': 3}, 'furniture': {'name': 'Furniture', 'description': 'This is furniture', 'id': 4}, 'grocery': {'name': 'Grocery', 'description': 'This is grocery', 'id': 5}, 'stationary': {'name': 'Stationary', 'description': 'This is stationary', 'id': 6}, 'toys': {'name': 'Toys', 'description': 'This is toys', 'id': 7}, 'sports': {'name': 'Sports', 'description': 'This is sports', 'id': 8}, 'books': {'name': 'Books', 'description': 'Only technical books', 'id': 9}, 'others': {'name': 'Others', 'description': 'This is others', 'id': 10}, 'juguetes_and_amor': {'id': 11, 'name': 'Juguetes and Amor', 'description': 'bla bla bla'}, 'cooking': {'id': 12, 'name': 'Cooking', 'description': 'Cooking essentials'}})\n"
     ]
    },
    {
     "data": {
      "text/plain": [
       "{'footwear': {'name': 'Footwear', 'description': 'This is footwear', 'id': 1},\n",
       " 'clothing': {'name': 'Clothing',\n",
       "  'description': 'Including Jewelry, Jackets, and shoes',\n",
       "  'id': 2},\n",
       " 'electronic': {'name': 'Electronic',\n",
       "  'description': 'This is electronic',\n",
       "  'id': 3},\n",
       " 'furniture': {'name': 'Furniture',\n",
       "  'description': 'This is furniture',\n",
       "  'id': 4},\n",
       " 'grocery': {'name': 'Grocery', 'description': 'This is grocery', 'id': 5},\n",
       " 'stationary': {'name': 'Stationary',\n",
       "  'description': 'This is stationary',\n",
       "  'id': 6},\n",
       " 'toys': {'name': 'Toys', 'description': 'This is toys', 'id': 7},\n",
       " 'sports': {'name': 'Sports', 'description': 'This is sports', 'id': 8},\n",
       " 'books': {'name': 'Books', 'description': 'Only technical books', 'id': 9},\n",
       " 'others': {'name': 'Others', 'description': 'This is others', 'id': 10},\n",
       " 'juguetes_and_amor': {'id': 11,\n",
       "  'name': 'Juguetes and Amor',\n",
       "  'description': 'bla bla bla'},\n",
       " 'cooking': {'id': 12, 'name': 'Cooking', 'description': 'Cooking essentials'}}"
      ]
     },
     "execution_count": 9,
     "metadata": {},
     "output_type": "execute_result"
    }
   ],
   "source": [
    "print(\"Admin adds a new category\")\n",
    "print(f'{utils.add_category(\"jonh@test.com\", db, \"Cooking\", \"Cooking essentials\")}')\n",
    "db.catalogs\n",
    "db.categories"
   ]
  },
  {
   "cell_type": "code",
   "execution_count": 10,
   "id": "7b793c16-c92c-4242-9ad6-2d2485c6eefc",
   "metadata": {},
   "outputs": [
    {
     "name": "stdout",
     "output_type": "stream",
     "text": [
      "NO Admin adds a new category\n",
      "0\n",
      "Admin permissions required\n"
     ]
    }
   ],
   "source": [
    "print(\"NO Admin adds a new category\")\n",
    "print(f'{utils.add_category(\"maria@test.com\", db, \"Gardening\", \"Gardening essentials\")}')"
   ]
  },
  {
   "cell_type": "code",
   "execution_count": null,
   "id": "b124628c-7ebc-451f-b5d6-d9dcf0eef4cd",
   "metadata": {},
   "outputs": [],
   "source": []
  }
 ],
 "metadata": {
  "kernelspec": {
   "display_name": "Python 3 (ipykernel)",
   "language": "python",
   "name": "python3"
  },
  "language_info": {
   "codemirror_mode": {
    "name": "ipython",
    "version": 3
   },
   "file_extension": ".py",
   "mimetype": "text/x-python",
   "name": "python",
   "nbconvert_exporter": "python",
   "pygments_lexer": "ipython3",
   "version": "3.10.13"
  }
 },
 "nbformat": 4,
 "nbformat_minor": 5
}
