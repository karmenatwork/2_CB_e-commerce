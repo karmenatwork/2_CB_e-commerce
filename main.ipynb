{
 "cells": [
  {
   "cell_type": "code",
   "execution_count": 1,
   "metadata": {},
   "outputs": [
    {
     "name": "stdout",
     "output_type": "stream",
     "text": [
      "{'id': 1, 'email': 'user1@test.com', 'password': 'userpass', 'admin': 0, 'cart': {}, 'name': 'Bianca'}\n",
      "{'id': 2, 'email': 'user2@test.com', 'password': 'userpass', 'admin': 0, 'cart': {}}\n",
      "{'email': 'admin1@test.com', 'password': 'adminpass1'}\n",
      "{'email': 'admin2@test.com', 'password': 'adminpass2'}\n",
      "(False, 'User admin2@test.com already exists', None)\n",
      "(False, 'Admin admin1@test.com already exists', None)\n",
      "User admin@test.com added successfully\n",
      "True\n",
      "User user@test.com added successfully\n",
      "True\n",
      "All packages imported\n",
      "Loading demo users from JSON file ... \n",
      "\n",
      "Total demo users: 3 - ['carmen@test.com', 'maria@test.com', 'jonh@test.com'] \n",
      "\n",
      "Total demo admins: ['carmen@test.com', 'jonh@test.com'] \n",
      "\n"
     ]
    },
    {
     "data": {
      "text/plain": [
       "True"
      ]
     },
     "execution_count": 1,
     "metadata": {},
     "output_type": "execute_result"
    }
   ],
   "source": [
    "import utils\n",
    "import app\n",
    "import json\n",
    "\n",
    "from app import ECommerceApp\n",
    "\n",
    "print(\"All packages imported\")\n",
    "\n",
    "# Instance of ECommerceApp \n",
    "app = ECommerceApp()\n",
    "app.load_users()"
   ]
  },
  {
   "cell_type": "code",
   "execution_count": 2,
   "metadata": {},
   "outputs": [
    {
     "name": "stdout",
     "output_type": "stream",
     "text": [
      "User maria@test.com logged in successfully. Session ID: eb22c37e-1ca4-427f-bcc4-fc329c4decaa\n"
     ]
    }
   ],
   "source": [
    "utils.print_header(\"Welcome to the Demo Marketplace\")\n",
    "admin_session_id = app.login(\"carmen@test.com\", \"admin\", user_type=\"admin\")\n",
    "user_session_id = app.login(\"maria@test.com\", \"user1\", user_type='user')\n"
   ]
  }
 ],
 "metadata": {
  "kernelspec": {
   "display_name": "AIMLbootcamp",
   "language": "python",
   "name": "python3"
  },
  "language_info": {
   "codemirror_mode": {
    "name": "ipython",
    "version": 3
   },
   "file_extension": ".py",
   "mimetype": "text/x-python",
   "name": "python",
   "nbconvert_exporter": "python",
   "pygments_lexer": "ipython3",
   "version": "3.10.13"
  }
 },
 "nbformat": 4,
 "nbformat_minor": 2
}
