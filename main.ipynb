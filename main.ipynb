{
 "cells": [
  {
   "cell_type": "code",
   "execution_count": 1,
   "metadata": {},
   "outputs": [
    {
     "name": "stdout",
     "output_type": "stream",
     "text": [
      "Category 'Home Appliances' added successfully.\n",
      "Product 'Lamp to relax' added to category 'home_appliances' successfully.\n",
      "User admin@test.com added successfully\n",
      "User user@test.com added successfully\n",
      "Admin admin@test.com logged in successfully!\n",
      "User user@test.com logged in successfully!\n",
      "Loading demo catalog from JSON file ... \n",
      "\n",
      "Category 'Books' added successfully.\n",
      "Product 'Python Crash Course: A Hands-On, Project-Based Introduction to Programming' added to category 'books' successfully. <database.Product object at 0x11e49dde0> <class 'database.Product'>\n",
      "\n",
      "Product 'Fluent Python: Clear, Concise, and Effective Programming' added to category 'books' successfully. <database.Product object at 0x11e49db10> <class 'database.Product'>\n",
      "\n",
      "Product 'Introduction to Machine Learning With Python' added to category 'books' successfully. <database.Product object at 0x11e49d9c0> <class 'database.Product'>\n",
      "\n",
      "Category 'Clothing' added successfully.\n",
      "Product 'AUTOMET Womens Faux Leather Jackets' added to category 'clothing' successfully. <database.Product object at 0x11e49de70> <class 'database.Product'>\n",
      "\n",
      "Category 'Footwear' added successfully.\n",
      "Product 'Blue running Man shoes' added to category 'footwear' successfully. <database.Product object at 0x11e49dea0> <class 'database.Product'>\n",
      "\n",
      "Category 'Home Appliances' added successfully.\n",
      "Product 'Ruby for children' added to category 'books' successfully.\n",
      "(False, 'Admin privileges required.')\n",
      "(False, 'Admin privileges required.')\n",
      "dict_keys(['books', 'clothing', 'footwear', 'home_appliances'])\n",
      "Product 'Lamp to relax' added to category 'home_appliances' successfully.\n",
      "================================================================================\n",
      "View Categories\n",
      "================================================================================\n",
      "\n",
      "Category : Books\n",
      "  1: Python Crash Course: A Hands-On, Project-Based Introduction to Programming - $44.99\n",
      "  2: Fluent Python: Clear, Concise, and Effective Programming - $19.99\n",
      "  3: Introduction to Machine Learning With Python - $56.99\n",
      "  6: Ruby for children - $19.99\n",
      "\n",
      "Category : Clothing\n",
      "  4: AUTOMET Womens Faux Leather Jackets - $29.99\n",
      "\n",
      "Category : Footwear\n",
      "  5: Blue running Man shoes - $29.99\n",
      "\n",
      "Category : Home Appliances\n",
      "  7: Lamp to relax - $19.99\n",
      "================================================================================\n",
      "True\n",
      "Product 'Blue running Man shoes' updated successfully.\n",
      "================================================================================\n",
      "View User cart\n",
      "================================================================================\n",
      "Cart is empty.\n",
      "================================================================================\n",
      "User adds items to cart\n",
      "================================================================================\n",
      "Product 'Python Crash Course: A Hands-On, Project-Based Introduction to Programming' added to cart. Quantity: 2\n",
      "Product 'Introduction to Machine Learning With Python' added to cart. Quantity: 1\n",
      "Product 'AUTOMET Womens Faux Leather Jackets' added to cart. Quantity: 1\n",
      "================================================================================\n",
      "View User cart\n",
      "================================================================================\n",
      "Items in cart:\n",
      "  1: Python Crash Course: A Hands-On, Project-Based Introduction to Programming - $44.99 x 2\n",
      "  3: Introduction to Machine Learning With Python - $56.99 x 1\n",
      "  4: AUTOMET Womens Faux Leather Jackets - $29.99 x 1\n",
      "\n",
      "Total amount $ 176.96\n",
      "All packages imported\n",
      "\n",
      "Loading demo users from JSON file ... \n",
      "\n",
      "Total demo users: 3 - ['carmen@test.com', 'maria@test.com', 'jonh@test.com'] \n",
      "\n",
      "Total demo admins: ['carmen@test.com', 'jonh@test.com'] \n",
      "\n",
      "================================================================================\n",
      "\n",
      "Loading demo catalog from JSON file ... \n",
      "\n",
      "Category 'Books' added successfully.\n",
      "Product 'Python Crash Course: A Hands-On, Project-Based Introduction to Programming' added to category 'books' successfully. <database.Product object at 0x11e49e020> <class 'database.Product'>\n",
      "\n",
      "Product 'Fluent Python: Clear, Concise, and Effective Programming' added to category 'books' successfully. <database.Product object at 0x11e49e080> <class 'database.Product'>\n",
      "\n",
      "Product 'Introduction to Machine Learning With Python' added to category 'books' successfully. <database.Product object at 0x11e49e2c0> <class 'database.Product'>\n",
      "\n",
      "Category 'Clothing' added successfully.\n",
      "Product 'AUTOMET Womens Faux Leather Jackets' added to category 'clothing' successfully. <database.Product object at 0x11e49e1d0> <class 'database.Product'>\n",
      "\n",
      "Category 'Footwear' added successfully.\n",
      "Product 'Blue running Man shoes' added to category 'footwear' successfully. <database.Product object at 0x11e49e290> <class 'database.Product'>\n",
      "\n",
      "Finished loading demo data!\n"
     ]
    }
   ],
   "source": [
    "import utils\n",
    "import app\n",
    "import json\n",
    "\n",
    "from app import ECommerceApp\n",
    "\n",
    "print(\"All packages imported\\n\")\n",
    "\n",
    "# Instance of ECommerceApp \n",
    "app = ECommerceApp()\n",
    "app.load_users()\n",
    "print(utils.print_divider())\n",
    "app.load_catalog()\n",
    "\n",
    "print(\"Finished loading demo data!\")"
   ]
  },
  {
   "cell_type": "code",
   "execution_count": 2,
   "metadata": {},
   "outputs": [
    {
     "name": "stdout",
     "output_type": "stream",
     "text": [
      "================================================================================\n",
      "Welcome to the Demo Marketplace\n",
      "================================================================================\n",
      "User maria@test.com logged in successfully!\n",
      "================================================================================\n",
      "View Categories\n",
      "================================================================================\n",
      "\n",
      "Category : Books\n",
      "  1: Python Crash Course: A Hands-On, Project-Based Introduction to Programming - $44.99\n",
      "  2: Fluent Python: Clear, Concise, and Effective Programming - $19.99\n",
      "  3: Introduction to Machine Learning With Python - $56.99\n",
      "\n",
      "Category : Clothing\n",
      "  4: AUTOMET Womens Faux Leather Jackets - $29.99\n",
      "\n",
      "Category : Footwear\n",
      "  5: Blue running Man shoes - $29.99\n",
      "================================================================================\n",
      "\n",
      "\n"
     ]
    }
   ],
   "source": [
    "print(utils.print_header(\"Welcome to the Demo Marketplace\"))\n",
    "user_session_id = app.login(\"maria@test.com\", \"user1\", user_type='user')\n",
    "app.view_categories()\n",
    "print(\"\\n\")"
   ]
  },
  {
   "cell_type": "code",
   "execution_count": 3,
   "metadata": {},
   "outputs": [
    {
     "name": "stdout",
     "output_type": "stream",
     "text": [
      "Add Category & Product\n",
      "================================================================================\n",
      "\n",
      "Admin privileges required.\n",
      "Sorry, only Admins can add, update or remove products to the catalog\n"
     ]
    }
   ],
   "source": [
    "print(\"Add Category & Product\")\n",
    "print(utils.print_divider())\n",
    "# Only admins can add / update / remove categories\n",
    "result = app.add_category(user_session_id, \"Home Appliances\", \"Everything you need for your home\")\n",
    "if result[0] == False:\n",
    "    print(result[1])\n",
    "    print(\"Sorry, only Admins can add, update or remove products to the catalog\")"
   ]
  },
  {
   "cell_type": "code",
   "execution_count": 4,
   "metadata": {},
   "outputs": [
    {
     "name": "stdout",
     "output_type": "stream",
     "text": [
      "================================================================================\n",
      "Admin's Dashboard\n",
      "================================================================================\n",
      "Admin carmen@test.com logged in successfully!\n",
      "================================================================================\n",
      "View Categories\n",
      "================================================================================\n",
      "\n",
      "Category : Books\n",
      "  1: Python Crash Course: A Hands-On, Project-Based Introduction to Programming - $44.99\n",
      "  2: Fluent Python: Clear, Concise, and Effective Programming - $19.99\n",
      "  3: Introduction to Machine Learning With Python - $56.99\n",
      "\n",
      "Category : Clothing\n",
      "  4: AUTOMET Womens Faux Leather Jackets - $29.99\n",
      "\n",
      "Category : Footwear\n",
      "  5: Blue running Man shoes - $29.99\n",
      "================================================================================\n"
     ]
    },
    {
     "data": {
      "text/plain": [
       "True"
      ]
     },
     "execution_count": 4,
     "metadata": {},
     "output_type": "execute_result"
    }
   ],
   "source": [
    "print(utils.print_header(\"Admin's Dashboard\"))\n",
    "admin_session_id = app.login(\"carmen@test.com\", \"admin1\", user_type=\"admin\")\n",
    "app.view_categories()"
   ]
  },
  {
   "cell_type": "code",
   "execution_count": 5,
   "metadata": {},
   "outputs": [
    {
     "name": "stdout",
     "output_type": "stream",
     "text": [
      "Add Category & Product\n",
      "================================================================================\n",
      "\n",
      "Category 'Home Appliances' added successfully.\n",
      "Product 'Lamp to relax' added to category 'home_appliances' successfully.\n",
      "Product 'Lamp to concentrate' added to category 'home_appliances' successfully.\n",
      "Product 'Ruby for children' added to category 'books' successfully.\n",
      "Product 'Teach your kids to Code' added to category 'footwear' successfully.\n",
      "================================================================================\n",
      "View Categories\n",
      "================================================================================\n",
      "\n",
      "Category : Books\n",
      "  1: Python Crash Course: A Hands-On, Project-Based Introduction to Programming - $44.99\n",
      "  2: Fluent Python: Clear, Concise, and Effective Programming - $19.99\n",
      "  3: Introduction to Machine Learning With Python - $56.99\n",
      "  8: Ruby for children - $19.99\n",
      "\n",
      "Category : Clothing\n",
      "  4: AUTOMET Womens Faux Leather Jackets - $29.99\n",
      "\n",
      "Category : Footwear\n",
      "  5: Blue running Man shoes - $29.99\n",
      "  9: Teach your kids to Code - $10.0\n",
      "\n",
      "Category : Home Appliances\n",
      "  6: Lamp to relax - $19.99\n",
      "  7: Lamp to concentrate - $19.99\n",
      "================================================================================\n"
     ]
    },
    {
     "data": {
      "text/plain": [
       "True"
      ]
     },
     "execution_count": 5,
     "metadata": {},
     "output_type": "execute_result"
    }
   ],
   "source": [
    "print(\"Add Category & Product\")\n",
    "print(utils.print_divider())\n",
    "print(app.add_category(admin_session_id, \"Home Appliances\", \"Everything you need for your home\"))\n",
    "print(app.add_product(admin_session_id,\"Lamp to relax\", \"Himalayan Pink Lamp\", 19.99, 'home_appliances'))\n",
    "print(app.add_product(admin_session_id,\"Lamp to concentrate\", \"Himalayan Blue Lamp\", 19.99, 'home_appliances'))\n",
    "print(app.add_product(admin_session_id, \"Ruby for children\", \"Teaching Ruby to children\", 19.99, \"books\", author = \"Carmen Diaz\"))\n",
    "print(app.add_product(admin_session_id, \"Teach your kids to Code\", \"Teaching code in a fun way\", 10.00, \"footwear\", author = \"Carmen Diaz\"))\n",
    "\n",
    "app.view_categories()"
   ]
  },
  {
   "cell_type": "code",
   "execution_count": 6,
   "metadata": {},
   "outputs": [
    {
     "name": "stdout",
     "output_type": "stream",
     "text": [
      "Admin update/remove products. Admin add existing product\n",
      "================================================================================\n",
      "\n",
      "Product Blue running Man shoes already exists in footwear.\n",
      "Product 'Lamp to concentrate better' updated successfully.\n",
      "Product 'Teach your kids to Code' updated successfully.\n",
      "Item 'AUTOMET Womens Faux Leather Jackets' removed successfully.\n",
      "================================================================================\n",
      "View Categories\n",
      "================================================================================\n",
      "\n",
      "Category : Books\n",
      "  1: Python Crash Course: A Hands-On, Project-Based Introduction to Programming - $44.99\n",
      "  2: Fluent Python: Clear, Concise, and Effective Programming - $19.99\n",
      "  3: Introduction to Machine Learning With Python - $56.99\n",
      "  8: Ruby for children - $19.99\n",
      "  9: Teach your kids to Code - $10.0\n",
      "\n",
      "Category : Clothing\n",
      "\n",
      "Category : Footwear\n",
      "  5: Blue running Man shoes - $29.99\n",
      "\n",
      "Category : Home Appliances\n",
      "  6: Lamp to relax - $19.99\n",
      "  7: Lamp to concentrate better - $39.99\n",
      "================================================================================\n"
     ]
    },
    {
     "data": {
      "text/plain": [
       "True"
      ]
     },
     "execution_count": 6,
     "metadata": {},
     "output_type": "execute_result"
    }
   ],
   "source": [
    "print(\"Admin update/remove products. Admin add existing product\")\n",
    "print(utils.print_divider())\n",
    "# Alreday exists\n",
    "print(app.add_product(admin_session_id, \"Blue running Man shoes\", \"Comfy shoes\", 29.99, \"footwear\"))\n",
    "\n",
    "# Update product's price and name\n",
    "app.update_product(admin_session_id, 7, name = \"Lamp to concentrate better\", price = 39.99)\n",
    "\n",
    "# Update product's category: Teach your kids to Code should be in \"books\"\n",
    "app.update_product(admin_session_id, 9, category = \"books\")\n",
    "\n",
    "# Remove product: AUTOMET Womens Faux Leather Jackets\n",
    "app.remove_product(admin_session_id, 4)\n",
    "\n",
    "app.view_categories()"
   ]
  },
  {
   "cell_type": "code",
   "execution_count": 7,
   "metadata": {},
   "outputs": [
    {
     "name": "stdout",
     "output_type": "stream",
     "text": [
      "================================================================================\n",
      "View Categories\n",
      "================================================================================\n",
      "\n",
      "Category : Books\n",
      "  1: Python Crash Course: A Hands-On, Project-Based Introduction to Programming - $44.99\n",
      "  2: Fluent Python: Clear, Concise, and Effective Programming - $19.99\n",
      "  3: Introduction to Machine Learning With Python - $56.99\n",
      "  8: Ruby for children - $19.99\n",
      "  9: Teach your kids to Code - $10.0\n",
      "\n",
      "Category : Clothing\n",
      "\n",
      "Category : Footwear\n",
      "  5: Blue running Man shoes - $29.99\n",
      "\n",
      "Category : Home Appliances\n",
      "  6: Lamp to relax - $19.99\n",
      "  7: Lamp to concentrate better - $39.99\n",
      "================================================================================\n",
      "================================================================================\n",
      "View User cart\n",
      "================================================================================\n",
      "Cart is empty.\n"
     ]
    },
    {
     "data": {
      "text/plain": [
       "False"
      ]
     },
     "execution_count": 7,
     "metadata": {},
     "output_type": "execute_result"
    }
   ],
   "source": [
    "app.view_categories()\n",
    "app.view_cart(user_session_id)\n"
   ]
  },
  {
   "cell_type": "code",
   "execution_count": 8,
   "metadata": {},
   "outputs": [
    {
     "name": "stdout",
     "output_type": "stream",
     "text": [
      "================================================================================\n",
      "User adds items to cart\n",
      "================================================================================\n",
      "Product 'Python Crash Course: A Hands-On, Project-Based Introduction to Programming' added to cart. Quantity: 2\n",
      "Product 'Introduction to Machine Learning With Python' added to cart. Quantity: 1\n",
      "Product 'Ruby for children' added to cart. Quantity: 1\n",
      "Product 'Lamp to concentrate better' added to cart. Quantity: 3\n",
      "================================================================================\n",
      "View User cart\n",
      "================================================================================\n",
      "Items in cart:\n",
      "  1: Python Crash Course: A Hands-On, Project-Based Introduction to Programming - $44.99 x 2\n",
      "  3: Introduction to Machine Learning With Python - $56.99 x 1\n",
      "  8: Ruby for children - $19.99 x 1\n",
      "  7: Lamp to concentrate better - $39.99 x 3\n",
      "\n",
      "Total amount $ 286.93\n"
     ]
    },
    {
     "data": {
      "text/plain": [
       "True"
      ]
     },
     "execution_count": 8,
     "metadata": {},
     "output_type": "execute_result"
    }
   ],
   "source": [
    "\n",
    "print(utils.print_header(\"User adds items to cart\"))\n",
    "# User adds items to cart\n",
    "app.add_to_cart(user_session_id, 1, 2)\n",
    "app.add_to_cart(user_session_id, 3, 1)\n",
    "app.add_to_cart(user_session_id, 8, 1)\n",
    "app.add_to_cart(user_session_id, 7, 3)\n",
    "app.view_cart(user_session_id)"
   ]
  },
  {
   "cell_type": "code",
   "execution_count": 9,
   "metadata": {},
   "outputs": [
    {
     "name": "stdout",
     "output_type": "stream",
     "text": [
      "User privileges required.\n",
      "User privileges required.\n"
     ]
    },
    {
     "data": {
      "text/plain": [
       "False"
      ]
     },
     "execution_count": 9,
     "metadata": {},
     "output_type": "execute_result"
    }
   ],
   "source": [
    "# Only users can add and remove to their cart\n",
    "app.add_to_cart(admin_session_id, 8, 1)\n",
    "app.view_cart(admin_session_id)"
   ]
  }
 ],
 "metadata": {
  "kernelspec": {
   "display_name": "AIMLbootcamp",
   "language": "python",
   "name": "python3"
  },
  "language_info": {
   "codemirror_mode": {
    "name": "ipython",
    "version": 3
   },
   "file_extension": ".py",
   "mimetype": "text/x-python",
   "name": "python",
   "nbconvert_exporter": "python",
   "pygments_lexer": "ipython3",
   "version": "3.10.13"
  }
 },
 "nbformat": 4,
 "nbformat_minor": 2
}
