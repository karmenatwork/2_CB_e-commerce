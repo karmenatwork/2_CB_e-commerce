{
 "cells": [
  {
   "cell_type": "markdown",
   "id": "fd8c0f4c-42be-4d5b-b23d-5c4b1ea5f0c1",
   "metadata": {
    "tags": []
   },
   "source": [
    "# Phase-End Project: Creating a Shopping App Using Python\n",
    "\n",
    "Problem Scenario: You have to develop a shopping application or e-commerce application which has login and public login features on the Python platform. The applications that have been developed should also include categories, such as 3–4 for footwear, clothing, electronics, etc. It should be possible to add and update categories in the application. Additionally, it must contain a feature that allows you to add or remove items from your cart. Finally, the program needs to support a variety of payment options, including UPI and debit cards. This should be only backend implementation, and UX/UI and database connectivity are not required.\n",
    "\n",
    "### Guidelines:\n",
    "\n",
    "\t1.\tA welcome message should initially be displayed in the e-commerce application, such as \"Welcome to the Demo Marketplace\".\n",
    "\t2•\tUser login and admin login should be created once the code for the welcome message has been written. For the creation of demo login and admin login, demo databases for those should be created for the user and admin verification, and session id creation.\n",
    "\t3•\tAfter databases are created, create admin and user logins. It is necessary to construct a sample product catalog with three to four product categories, such as Boots, Coats, Jackets, and Caps. The product id, name, category id, and price should all be present for each item in the dummy database of the catalog. Both users and administrators can view the catalog.\n",
    "\t\n",
    "    "
   ]
  },
  {
   "cell_type": "markdown",
   "id": "30dc520f-ddd1-4755-8694-d4af3ed13647",
   "metadata": {},
   "source": [
    "## Approach taken\n",
    "- Create a Dummy DB class with attributes: Users, Categories, Products, and catalogs are dict for quicker lookup.\n",
    "- Catalogs hold what's been displayed for sale\n",
    "- Dummy data are JSON files in `/data/*.json` \n",
    "- Load functions are in the file `utils.json`"
   ]
  },
  {
   "cell_type": "code",
   "execution_count": 1,
   "id": "1a9bb566-bfcb-477e-a3dc-4e4a0ff11254",
   "metadata": {
    "tags": []
   },
   "outputs": [
    {
     "name": "stdout",
     "output_type": "stream",
     "text": [
      "================================================================================\n",
      "Welcome to the Demo Marketplace\n",
      "================================================================================\n",
      "Loading demo users from JSON file ... \n",
      "\n",
      "Total demo users: 3 \n",
      "\n"
     ]
    },
    {
     "data": {
      "text/plain": [
       "{'carmen@test.com': {'id': 1,\n",
       "  'name': 'Carmen',\n",
       "  'email': 'carmen@test.com',\n",
       "  'password': 'abcde1',\n",
       "  'admin': 1},\n",
       " 'maria@test.com': {'id': 2,\n",
       "  'name': 'Maria',\n",
       "  'email': 'maria@test.com',\n",
       "  'password': 'abcde2',\n",
       "  'admin': 0},\n",
       " 'jonh@test.com': {'id': 3,\n",
       "  'name': 'Jonh',\n",
       "  'email': 'jonh@test.com',\n",
       "  'password': 'abcde2',\n",
       "  'admin': 1}}"
      ]
     },
     "execution_count": 1,
     "metadata": {},
     "output_type": "execute_result"
    }
   ],
   "source": [
    "import utils\n",
    "\n",
    "# Create DB & demo data.\n",
    "from models.database import DummyEcommerceDB\n",
    "\n",
    "utils.print_header(\"Welcome to the Demo Marketplace\")\n",
    "\n",
    "# Instance of dummyDB \n",
    "db = DummyEcommerceDB()\n",
    "\n",
    "# Load demo data: Users\n",
    "utils.load_users(db.users)\n",
    "db.users\n"
   ]
  },
  {
   "cell_type": "markdown",
   "id": "6cb36a6e",
   "metadata": {},
   "source": [
    "### Approach to register and authenticate a user \n",
    "\n",
    "At first, I added the function login() to the class DummyEcommerceDB but then moved it to the file utils.\n",
    "\n",
    "It feels that authentications shouldn't be tied to a class, probably it's okay to keep functions in the DB dummy for adding (registering) a user or adding/updating/removing category, product or user. "
   ]
  },
  {
   "cell_type": "code",
   "execution_count": 2,
   "id": "d5274217",
   "metadata": {},
   "outputs": [
    {
     "name": "stdout",
     "output_type": "stream",
     "text": [
      "{'id': 4, 'name': 'carmencita', 'email': 'carmencita@test.com', 'password': 'abcde2', 'admin': 1}\n"
     ]
    }
   ],
   "source": [
    "# To register an user , 1= Admin, 0 = No admin \n",
    "db.register( \"carmencita\", \"carmencita@test.com\", \"abcde2\", 1)\n",
    "print(db.users[\"carmencita@test.com\"])\n",
    "\n",
    "# To login use an existing one, and pass as an argument db.users \n",
    "# utils.login(\"carmen@test.com\", \"abcde1\", db.users) "
   ]
  },
  {
   "cell_type": "markdown",
   "id": "2fcc8268",
   "metadata": {},
   "source": [
    "### Using input() to either login or register a user.\n",
    "- To authenticate utils.login() (or db.login()) \n",
    "- To register utils.register()"
   ]
  },
  {
   "cell_type": "code",
   "execution_count": 6,
   "id": "9ed27010-bfbb-4cae-abe9-8079c9c5f32f",
   "metadata": {
    "tags": []
   },
   "outputs": [
    {
     "name": "stdout",
     "output_type": "stream",
     "text": [
      "================================================================================\n",
      "(L)OGIN | (R)EGISTER\n",
      "================================================================================\n"
     ]
    }
   ],
   "source": [
    "import utils\n",
    "from models.database import User\n",
    "\n",
    "utils.print_header(\"(L)OGIN | (R)EGISTER\")\n",
    "choice = input(\"Press L or R to continue... \")\n",
    "choice = choice.upper()\n",
    "\n",
    "print(\"\\n\")\n",
    "\n",
    "if choice == \"L\":\n",
    "    utils.print_header(\"LOGIN SCREEN\")\n",
    "    email = input(\"Email: \")\n",
    "    password = input(\"Password: \")\n",
    "    \n",
    "    user_data = utils.login(email, password, db.users)[2] #for debugging/testing purposes I return a tuple, user data is position 2\n",
    "    # print(user_data)\n",
    "    if  user_data:\n",
    "        current_user = User(**user_data)\n",
    "        print(f\"\\nLogin successfully | Welcome back {current_user.name}\")\n",
    "    else:\n",
    "        print(\"Login failed. Invalid Email or Password. Please try again.\")\n",
    "\n",
    "else:\n",
    "    utils.print_header(\"SIGNUP SCREEN\")\n",
    "    \n",
    "    name = input(\"Name: \")\n",
    "    email = input(\"Email: \")\n",
    "    password = input(\"Password: \")\n",
    "\n",
    "    user_data = db.register(name,email, password)[2]\n",
    "    if user_data:\n",
    "        current_user = User(**user_data)\n",
    "\n",
    "    print(f\"\\nRegistered successfully | Welcome {current_user.name}\")\n",
    "    "
   ]
  },
  {
   "cell_type": "markdown",
   "id": "e599bbb9",
   "metadata": {},
   "source": [
    "### Loading Catalog, Categories and Products "
   ]
  },
  {
   "cell_type": "code",
   "execution_count": 31,
   "id": "fafa74db",
   "metadata": {
    "tags": []
   },
   "outputs": [
    {
     "name": "stdout",
     "output_type": "stream",
     "text": [
      "================================================================================\n",
      "Product's Catalog\n",
      "================================================================================\n",
      "Categories: \n",
      " ['books', 'clothing']\n",
      "Products: \n",
      " ['Python Crash Course: A Hands-On, Project-Based Introduction to Programming', 'Fluent Python: Clear, Concise, and Effective Programming', 'Introduction to Machine Learning With Python', 'AUTOMET Womens Faux Leather Jackets']\n"
     ]
    }
   ],
   "source": [
    "# Import.\n",
    "from models.database import Category \n",
    "from models.database import Product\n",
    "\n",
    "import utils\n",
    "\n",
    "## Uncomment these lines first to run just this row. We need db, a logged user, and catalogs to continue\n",
    "# from models.database import DummyEcommerceDB\n",
    "# db = DummyEcommerceDB()\n",
    "# print(isinstance(db, DummyEcommerceDB))\n",
    "\n",
    "# Load demo data \n",
    "# utils.load_users(db.users)\n",
    "\n",
    "# Load demo data: Catalogs, Categories, and Products  \n",
    "utils.print_header(\"Product's Catalog\")\n",
    "if len(db.catalogs) == 0:\n",
    "    catalog = utils.load_catalog(db)['catalog']\n",
    "else:\n",
    "    catalog = db.catalogs\n",
    "    \n",
    "# print([*catalog.keys()])\n",
    "print(f'Categories: \\n {[*db.categories.keys()]}')\n",
    "\n",
    "# Print products\n",
    "print(f\"Products: \\n {[product['name'] for product in db.products.values()]}\")\n",
    "# same as print(list(catalog.keys))\n",
    "\n",
    "# To login use\n",
    "#\"carmen@test.com\", \"abcde1\"\n",
    "# 0: client, 1: admin\n",
    "\n",
    "# Or to set a current_user \n",
    "# current_user = utils.current_user(\"carmen@test.com\", \"abcde1\", db.users)\n",
    "# print(f'current user {current_user.email}')"
   ]
  },
  {
   "cell_type": "markdown",
   "id": "21cc22cf",
   "metadata": {},
   "source": [
    "###  Display product Catalog\n",
    " - Using ipywidgets as interative HTML widgets, so consumer can click (+) to add or (-) to remove an item to/from a cart. \n",
    " - Generate dynamic variables to trigger onClick events for each product_id. I decided to use Button instead of Checkboxes. Note: I left the Checkbox example so you can see my thought process.  "
   ]
  },
  {
   "cell_type": "code",
   "execution_count": 16,
   "id": "d69de8a9",
   "metadata": {},
   "outputs": [
    {
     "name": "stdout",
     "output_type": "stream",
     "text": [
      "Loading demo users from JSON file ... \n",
      "\n",
      "Total demo users: 3 \n",
      "\n",
      "current user carmen@test.com\n",
      "================================================================================\n",
      "Product's Catalog\n",
      "================================================================================\n",
      "Loading DEMO catalog from JSON file :p ... \n",
      "\n",
      "================================================================================\n",
      "Category: 1 | Books | Only technical books\n",
      "================================================================================\n",
      "ID: 11 -- \n",
      "Python Crash Course: A Hands-On, Project-Based Introduction to Programming\n",
      "by Eric Matthes\n",
      "$ 44.99\n",
      " ----------------------------------------\n"
     ]
    },
    {
     "data": {
      "application/vnd.jupyter.widget-view+json": {
       "model_id": "fda87054202945c4ad63aa8a923c6c51",
       "version_major": 2,
       "version_minor": 0
      },
      "text/plain": [
       "VBox(children=(HBox(children=(Button(description='11', icon='plus', style=ButtonStyle(), tooltip='Add 11 - Pyt…"
      ]
     },
     "metadata": {},
     "output_type": "display_data"
    },
    {
     "name": "stdout",
     "output_type": "stream",
     "text": [
      "ID: 12 -- \n",
      "Fluent Python: Clear, Concise, and Effective Programming\n",
      "by Luciano Ramalho\n",
      "$ 19.99\n",
      " ----------------------------------------\n"
     ]
    },
    {
     "data": {
      "application/vnd.jupyter.widget-view+json": {
       "model_id": "b53498006d8c49d7a4747c974203c983",
       "version_major": 2,
       "version_minor": 0
      },
      "text/plain": [
       "VBox(children=(HBox(children=(Button(description='12', icon='plus', style=ButtonStyle(), tooltip='Add 12 - Flu…"
      ]
     },
     "metadata": {},
     "output_type": "display_data"
    },
    {
     "name": "stdout",
     "output_type": "stream",
     "text": [
      "ID: 13 -- \n",
      "Introduction to Machine Learning With Python\n",
      "by Andreas C. Müller\n",
      "$ 56.99\n",
      " ----------------------------------------\n"
     ]
    },
    {
     "data": {
      "application/vnd.jupyter.widget-view+json": {
       "model_id": "1f7c3dabc26a408e81aa8ad3eae30be4",
       "version_major": 2,
       "version_minor": 0
      },
      "text/plain": [
       "VBox(children=(HBox(children=(Button(description='13', icon='plus', style=ButtonStyle(), tooltip='Add 13 - Int…"
      ]
     },
     "metadata": {},
     "output_type": "display_data"
    },
    {
     "name": "stdout",
     "output_type": "stream",
     "text": [
      "\n",
      "\n",
      "================================================================================\n",
      "Category: 2 | Clothing | Including Jewelry, Jackets, and shoes\n",
      "================================================================================\n",
      "ID: 21 -- \n",
      "AUTOMET Womens Faux Leather Jackets\n",
      "by AUTOMET\n",
      "$ 29.99\n",
      " ----------------------------------------\n"
     ]
    },
    {
     "data": {
      "application/vnd.jupyter.widget-view+json": {
       "model_id": "5b86edede68e4e6992fb55d9801e94e5",
       "version_major": 2,
       "version_minor": 0
      },
      "text/plain": [
       "VBox(children=(HBox(children=(Button(description='21', icon='plus', style=ButtonStyle(), tooltip='Add 21 - AUT…"
      ]
     },
     "metadata": {},
     "output_type": "display_data"
    },
    {
     "name": "stdout",
     "output_type": "stream",
     "text": [
      "\n",
      "\n"
     ]
    },
    {
     "data": {
      "application/vnd.jupyter.widget-view+json": {
       "model_id": "1ed78e6d81c04fb2b8894e422b2495c7",
       "version_major": 2,
       "version_minor": 0
      },
      "text/plain": [
       "VBox(children=(Output(), Output()))"
      ]
     },
     "metadata": {},
     "output_type": "display_data"
    },
    {
     "data": {
      "application/vnd.jupyter.widget-view+json": {
       "model_id": "e6a5dae4b9654cc3a4b48c264bd6ee22",
       "version_major": 2,
       "version_minor": 0
      },
      "text/plain": [
       "Button(description='View Cart', style=ButtonStyle())"
      ]
     },
     "metadata": {},
     "output_type": "display_data"
    },
    {
     "data": {
      "application/vnd.jupyter.widget-view+json": {
       "model_id": "c0bc1f3687864db7b32fb87251b6380f",
       "version_major": 2,
       "version_minor": 0
      },
      "text/plain": [
       "HBox(children=(Output(),))"
      ]
     },
     "metadata": {},
     "output_type": "display_data"
    }
   ],
   "source": [
    "# Cart\n",
    "import utils\n",
    "from IPython.display import display\n",
    "import ipywidgets as widgets\n",
    "from ipywidgets import HBox\n",
    "\n",
    "# # Uncomment these lines first to run just this row\n",
    "## ====================\n",
    "# # Create DB & demo data.\n",
    "from models.database import DummyEcommerceDB\n",
    "from models.database import Category \n",
    "from models.database import Product\n",
    "db = DummyEcommerceDB()\n",
    "# print(isinstance(db, DummyEcommerceDB))\n",
    "\n",
    "# # Option 1: Login an user, it returns an instance of class User()\n",
    "# utils.load_users(db.users)\n",
    "# current_user = utils.current_user(\"carmen@test.com\", \"abcde1\", db.users)\n",
    "# print(f'current user {current_user.email}') # return tuple\n",
    "\n",
    "# # Option 2: Login an user, it returns dict with user_data\n",
    "utils.load_users(db.users)\n",
    "user_data = utils.login(\"carmen@test.com\", \"abcde1\", db.users)[2]\n",
    "print(f'current user {user_data[\"email\"]}')\n",
    "email = user_data[\"email\"]\n",
    "\n",
    "# # ===================\n",
    "\n",
    "# Get current's user email as global variable\n",
    "# email = current_user.email[0] \n",
    "\n",
    "utils.print_header(\"Product's Catalog\")\n",
    "if len(db.catalogs) == 0:\n",
    "    catalog = utils.load_catalog(db)['catalog']\n",
    "else:\n",
    "    catalog = db.catalogs\n",
    "\n",
    "# Define widgets\n",
    "order_title = widgets.Output()\n",
    "out = widgets.Output()\n",
    "order_display = widgets.VBox([order_title, out])\n",
    "button = widgets.Button(description=\"View Cart\")\n",
    "\n",
    "# Define button functions \n",
    "def on_view_cart_clicked(b):\n",
    "    data = utils.cart_data(cart, email)\n",
    "    display(data['output'])\n",
    "\n",
    "\n",
    "@out.capture()\n",
    "def on_add_clicked(b):\n",
    "    # print(f'clicked on add: {b.description}')\n",
    "    product_id = int(b.description)\n",
    "    item = db.products[product_id]\n",
    "\n",
    "    if email not in cart:\n",
    "        cart[email] = {}\n",
    "\n",
    "    if product_id not in cart[email]:\n",
    "        cart[email][product_id] = {\"quantity\": 1, \"name\": item[\"name\"], \"price\": item[\"price\"]}\n",
    "    else:\n",
    "        cart[email][product_id][\"quantity\"] += 1\n",
    "    \n",
    "    item = cart[email][product_id]\n",
    "        \n",
    "    print(f'{item[\"name\"]} ${item[\"price\"]} added to your cart')\n",
    "\n",
    "\n",
    "@out.capture()\n",
    "def on_remove_clicked(b):\n",
    "    product_id = int(b.description)\n",
    "\n",
    "    if email not in cart:\n",
    "        return\n",
    "    \n",
    "    if product_id in cart[email]:\n",
    "        item = cart[email][product_id]\n",
    "\n",
    "        if item and item[\"quantity\"] > 0:\n",
    "            item[\"quantity\"] -= 1\n",
    "        else:\n",
    "            print(\"Item does not exists in cart\")\n",
    "            return\n",
    "        print(f'{item[\"name\"]} ${item[\"price\"]} removed from your cart')\n",
    "    else:\n",
    "        print(\"Item is not in your cart\")\n",
    "\n",
    "btn_products = []\n",
    "cart = {}\n",
    "for key, category in catalog.items():\n",
    "    # print(category)\n",
    "    products = category.get(\"products\", None)\n",
    "    category = Category(category[\"id\"], category[\"name\"], category[\"description\"])\n",
    "    utils.print_header(f\"Category: {category.id} | {category.name} | {category.description}\")\n",
    "\n",
    "    # Prefix to generate dynamic variables\n",
    "    prefix = \"btn_\" + str(category.id)\n",
    "\n",
    "    for product_data in products:\n",
    "        # In theory it isn't neccessary , just to practice more python\n",
    "        product = Product(**product_data)\n",
    "        \n",
    "        # Dynamic variable for + button\n",
    "        btn_product = prefix + str(product.id)\n",
    "\n",
    "        if product.id not in db.products:\n",
    "            db.products[product.id] = {**product_data}\n",
    "        \n",
    "        print(f\"ID: {product.id} -- \\n{product.title}\")\n",
    "        print(f\"by {product.author}\")\n",
    "        print(f\"$ {product.price}\\n {'-'*40}\")\n",
    "\n",
    "        # Build add and del buttons\n",
    "        btn_add = btn_product + \"_add\"\n",
    "        btn_del = btn_product + \"_del\"\n",
    "        globals()[btn_add] =  widgets.Button(description=f\"{product.id}\", tooltip=f\"Add {product.id} - {product.title}\",value=False, icon='plus')\n",
    "        globals()[btn_del] =  widgets.Button(description=f\"{product.id}\", tooltip=f\"Remove {product.id} - {product.title}\",value=False, icon='remove')\n",
    "        # btn_products.append({\"btn\": globals()[btn_add], \"product\": product})\n",
    "\n",
    "        globals()[btn_add].on_click(on_add_clicked, False)\n",
    "        globals()[btn_del].on_click(on_remove_clicked, False)\n",
    "\n",
    "        ui = widgets.VBox([widgets.HBox([globals()[btn_add], globals()[btn_del]])])\n",
    "        display(ui)\n",
    "\n",
    "    print(\"\\n\")\n",
    "\n",
    "with order_title:\n",
    "    order_title.clear_output()\n",
    "    utils.print_header(\"Order Summary\")\n",
    "\n",
    "display(order_display)\n",
    "\n",
    "# from IPython.display import display\n",
    "# button = widgets.Button(description=\"View Cart\")\n",
    "display(button)\n",
    "\n",
    "# def on_view_cart_clicked(b):\n",
    "#     data = utils.cart_data(cart, email)\n",
    "#     display(data['output'])\n",
    "\n",
    "button.on_click(on_view_cart_clicked)\n",
    "# display(out)"
   ]
  },
  {
   "cell_type": "markdown",
   "id": "60e6e00b",
   "metadata": {},
   "source": [
    "### Display Cart \n",
    "\n",
    "Click \"View Cart\" "
   ]
  },
  {
   "cell_type": "code",
   "execution_count": 17,
   "id": "061cadf7",
   "metadata": {},
   "outputs": [
    {
     "data": {
      "application/vnd.jupyter.widget-view+json": {
       "model_id": "bad715dcfe444e8286e1e25293899f76",
       "version_major": 2,
       "version_minor": 0
      },
      "text/plain": [
       "Button(description='View Cart', style=ButtonStyle())"
      ]
     },
     "metadata": {},
     "output_type": "display_data"
    },
    {
     "data": {
      "application/vnd.jupyter.widget-view+json": {
       "model_id": "b58bb680afb74a50a3d4a110bc7d36c9",
       "version_major": 2,
       "version_minor": 0
      },
      "text/plain": [
       "HBox(children=(Output(),))"
      ]
     },
     "metadata": {},
     "output_type": "display_data"
    }
   ],
   "source": [
    "import utils\n",
    "import ipywidgets as widgets\n",
    "from IPython.display import display\n",
    "button = widgets.Button(description=\"View Cart\")\n",
    "display(button)\n",
    "\n",
    "def on_view_cart_clicked(b):\n",
    "    data = utils.cart_data(cart, email)\n",
    "    display(data['output'])\n",
    "\n",
    "button.on_click(on_view_cart_clicked)\n"
   ]
  },
  {
   "cell_type": "code",
   "execution_count": 24,
   "id": "e3bd3eb8-b507-4f8f-b462-d213e9dbd4f4",
   "metadata": {},
   "outputs": [
    {
     "name": "stdout",
     "output_type": "stream",
     "text": [
      "Total $353.91\n"
     ]
    }
   ],
   "source": [
    "def checkout(cart, email):\n",
    "    if email not in cart or not cart[email]:\n",
    "        print(\"Cart is empty.\")\n",
    "\n",
    "    return sum( item['quantity'] * item['price'] for product_id, item in cart[email].items())\n",
    "    # return f\"Checkout successful. Total amount: {total_amount}\"\n",
    "    \n",
    "# cart[email] = {}  # Reset cart\n",
    "total = checkout(cart, email)\n",
    "print(f\"Total ${total}\")\n"
   ]
  },
  {
   "cell_type": "code",
   "execution_count": 30,
   "id": "e535594a-d826-402a-8821-95c7cd67d40d",
   "metadata": {},
   "outputs": [
    {
     "data": {
      "application/vnd.jupyter.widget-view+json": {
       "model_id": "0043296859514a069c1fba6a08e0a5cc",
       "version_major": 2,
       "version_minor": 0
      },
      "text/plain": [
       "Dropdown(description='Choose', options=(('PayPal', 1), ('AMEX', 2), ('Venmo', 3)), value=1)"
      ]
     },
     "metadata": {},
     "output_type": "display_data"
    },
    {
     "name": "stdout",
     "output_type": "stream",
     "text": [
      "2\n"
     ]
    }
   ],
   "source": [
    "import ipywidgets as widgets\n",
    "from ipywidgets import HBox\n",
    "import pandas as pd\n",
    "\n",
    "from IPython.display import clear_output, display\n",
    "\n",
    "out = widgets.Output(layout={'border': '1px solid black'})\n",
    "\n",
    "from ipywidgets import interact, Dropdown\n",
    "# payment_options = Dropdown(\n",
    "#     options=[('PayPal', 1), ('AMEX', 2), ('Venmo', 3)],\n",
    "#     description='Payment Options:',\n",
    "# )\n",
    "\n",
    "# with out:\n",
    "\n",
    "#     out.clear_output()\n",
    "#     total = checkout(cart, email)\n",
    "#     payment_options.observe(value)\n",
    "\n",
    "# # out\n",
    "\n",
    "payment_options = [('PayPal', 1), ('AMEX', 2), ('Venmo', 3)]\n",
    "# payments_dropdown = widgets.Dropdown(\n",
    "#     options=payment_options,\n",
    "#     value=payment_options[1],\n",
    "#     description='Payment Options:',\n",
    "#     disabled=False,\n",
    "# )\n",
    "\n",
    "# display(payments_dropdown)\n",
    "\n",
    "\n",
    "drop_down = widgets.Dropdown(options=payment_options,\n",
    "                                description='Choose',\n",
    "                                disabled=False)\n",
    "\n",
    "def dropdown_handler(change):\n",
    "        print(change.new)\n",
    "        bor = change.new  # This line isn't working\n",
    "drop_down.observe(dropdown_handler, names='value')\n",
    "display(drop_down)\n",
    "\n"
   ]
  },
  {
   "cell_type": "code",
   "execution_count": null,
   "id": "30907af3-fc63-4b29-96ab-33f6bfbdca6e",
   "metadata": {},
   "outputs": [],
   "source": [
    "# def payment_options(change):\n",
    "#     print(change.new)\n",
    "\n",
    "# drop_down.observe()    "
   ]
  }
 ],
 "metadata": {
  "kernelspec": {
   "display_name": "Python 3 (ipykernel)",
   "language": "python",
   "name": "python3"
  },
  "language_info": {
   "codemirror_mode": {
    "name": "ipython",
    "version": 3
   },
   "file_extension": ".py",
   "mimetype": "text/x-python",
   "name": "python",
   "nbconvert_exporter": "python",
   "pygments_lexer": "ipython3",
   "version": "3.10.13"
  }
 },
 "nbformat": 4,
 "nbformat_minor": 5
}
